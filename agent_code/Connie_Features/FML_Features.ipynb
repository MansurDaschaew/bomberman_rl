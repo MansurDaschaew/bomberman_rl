{
 "cells": [
  {
   "cell_type": "code",
   "execution_count": 12,
   "id": "d10cdb7e",
   "metadata": {},
   "outputs": [],
   "source": [
    "# boolean \"can I place a bomb in the next step\" -> monitor bombability\n",
    "\n"
   ]
  },
  {
   "cell_type": "code",
   "execution_count": 3,
   "id": "24bbdd4c",
   "metadata": {},
   "outputs": [],
   "source": [
    "# dangerous tiles in the next step (+ two steps later +three + four steps later)(with a radius)(-> monitor where not to go)"
   ]
  },
  {
   "cell_type": "code",
   "execution_count": null,
   "id": "37e565c5",
   "metadata": {},
   "outputs": [],
   "source": [
    "#?same as above? safe tiles in the next step (with radius)\n",
    "##see Mansurs features for code"
   ]
  },
  {
   "cell_type": "code",
   "execution_count": null,
   "id": "e68ea6af",
   "metadata": {},
   "outputs": [],
   "source": [
    "# navigatable tiles positions (with a radius to minimize computationals effort)\n",
    "##see Mansurs & Ulis features for code"
   ]
  },
  {
   "cell_type": "code",
   "execution_count": 8,
   "id": "326d216b",
   "metadata": {},
   "outputs": [],
   "source": [
    "#?same as above? position of walls (with radius) (-> know, where not able to go)"
   ]
  },
  {
   "cell_type": "code",
   "execution_count": 11,
   "id": "fd601f61",
   "metadata": {},
   "outputs": [],
   "source": [
    "#? distance to bombs/next bomb"
   ]
  },
  {
   "cell_type": "code",
   "execution_count": 7,
   "id": "bd5ac4ce",
   "metadata": {},
   "outputs": [],
   "source": [
    "# position of crates (as well with a radius to minimize computational effort)"
   ]
  },
  {
   "cell_type": "code",
   "execution_count": 4,
   "id": "75a61d00",
   "metadata": {},
   "outputs": [],
   "source": [
    "# number of opponents alive (-> monitor danger of others)"
   ]
  },
  {
   "cell_type": "code",
   "execution_count": null,
   "id": "0407ea5c",
   "metadata": {},
   "outputs": [],
   "source": [
    "# number of steps(-> monitor game time correlated actions)"
   ]
  },
  {
   "cell_type": "code",
   "execution_count": 9,
   "id": "b2d4bc37",
   "metadata": {},
   "outputs": [],
   "source": [
    "# position of opponent(s) + boolean if they can or cannot place a new bomb in the next step"
   ]
  },
  {
   "cell_type": "code",
   "execution_count": 13,
   "id": "cdd8ce0a",
   "metadata": {},
   "outputs": [],
   "source": [
    "# count of current points (maybe devide into two features: count of collected coins & count of destroyed opponents)"
   ]
  },
  {
   "cell_type": "code",
   "execution_count": 14,
   "id": "840f0b64",
   "metadata": {},
   "outputs": [],
   "source": [
    "# count of overall points gained"
   ]
  },
  {
   "cell_type": "code",
   "execution_count": 15,
   "id": "4d2b2c6e",
   "metadata": {},
   "outputs": [],
   "source": [
    "# shortest path to nearest object\n",
    "##see Mansurs features"
   ]
  },
  {
   "cell_type": "code",
   "execution_count": null,
   "id": "24171988",
   "metadata": {},
   "outputs": [],
   "source": [
    "# nearest coins\n",
    "##see Mansurs & Ulis features for code"
   ]
  }
 ],
 "metadata": {
  "kernelspec": {
   "display_name": "Python 3 (ipykernel)",
   "language": "python",
   "name": "python3"
  },
  "language_info": {
   "codemirror_mode": {
    "name": "ipython",
    "version": 3
   },
   "file_extension": ".py",
   "mimetype": "text/x-python",
   "name": "python",
   "nbconvert_exporter": "python",
   "pygments_lexer": "ipython3",
   "version": "3.9.9"
  }
 },
 "nbformat": 4,
 "nbformat_minor": 5
}
